{
 "cells": [
  {
   "cell_type": "code",
   "execution_count": 1,
   "id": "025113c2-c267-470a-8cb7-38393ffa9c55",
   "metadata": {},
   "outputs": [
    {
     "name": "stderr",
     "output_type": "stream",
     "text": [
      "here() starts at /home/gridsan/tdn/replicate-papers/covid-infections/SARS-CoV-2-VL-paper\n",
      "\n",
      "This is cmdstanr version 0.6.1\n",
      "\n",
      "- CmdStanR documentation and vignettes: mc-stan.org/cmdstanr\n",
      "\n",
      "- CmdStan path: /home/gridsan/tdn/.cmdstan/cmdstan-2.33.1\n",
      "\n",
      "- CmdStan version: 2.33.1\n",
      "\n",
      "This is posterior version 1.5.0\n",
      "\n",
      "\n",
      "Attaching package: ‘posterior’\n",
      "\n",
      "\n",
      "The following objects are masked from ‘package:stats’:\n",
      "\n",
      "    mad, sd, var\n",
      "\n",
      "\n",
      "The following objects are masked from ‘package:base’:\n",
      "\n",
      "    %in%, match\n",
      "\n",
      "\n",
      "This is bayesplot version 1.10.0\n",
      "\n",
      "- Online documentation and vignettes at mc-stan.org/bayesplot\n",
      "\n",
      "- bayesplot theme set to bayesplot::theme_default()\n",
      "\n",
      "   * Does _not_ affect other ggplot2 plots\n",
      "\n",
      "   * See ?bayesplot_theme_set for details on theme setting\n",
      "\n",
      "\n",
      "Attaching package: ‘bayesplot’\n",
      "\n",
      "\n",
      "The following object is masked from ‘package:posterior’:\n",
      "\n",
      "    rhat\n",
      "\n",
      "\n",
      "\n",
      "Attaching package: ‘EnvStats’\n",
      "\n",
      "\n",
      "The following objects are masked from ‘package:stats’:\n",
      "\n",
      "    predict, predict.lm\n",
      "\n",
      "\n",
      "Loading required package: R.oo\n",
      "\n",
      "Loading required package: R.methodsS3\n",
      "\n",
      "R.methodsS3 v1.8.2 (2022-06-13 22:00:14 UTC) successfully loaded. See ?R.methodsS3 for help.\n",
      "\n",
      "R.oo v1.25.0 (2022-06-12 02:20:02 UTC) successfully loaded. See ?R.oo for help.\n",
      "\n",
      "\n",
      "Attaching package: ‘R.oo’\n",
      "\n",
      "\n",
      "The following object is masked from ‘package:R.methodsS3’:\n",
      "\n",
      "    throw\n",
      "\n",
      "\n",
      "The following object is masked from ‘package:magrittr’:\n",
      "\n",
      "    equals\n",
      "\n",
      "\n",
      "The following objects are masked from ‘package:methods’:\n",
      "\n",
      "    getClasses, getMethods\n",
      "\n",
      "\n",
      "The following objects are masked from ‘package:base’:\n",
      "\n",
      "    attach, detach, load, save\n",
      "\n",
      "\n",
      "R.utils v2.12.3 (2023-11-18 01:00:02 UTC) successfully loaded. See ?R.utils for help.\n",
      "\n",
      "\n",
      "Attaching package: ‘R.utils’\n",
      "\n",
      "\n",
      "The following object is masked from ‘package:magrittr’:\n",
      "\n",
      "    extract\n",
      "\n",
      "\n",
      "The following object is masked from ‘package:utils’:\n",
      "\n",
      "    timestamp\n",
      "\n",
      "\n",
      "The following objects are masked from ‘package:base’:\n",
      "\n",
      "    cat, commandArgs, getOption, isOpen, nullfile, parse, warnings\n",
      "\n",
      "\n"
     ]
    }
   ],
   "source": [
    "source(\"./utils.R\")"
   ]
  },
  {
   "cell_type": "code",
   "execution_count": 30,
   "id": "805cd981-805a-4c92-b5d8-9052d3572a87",
   "metadata": {},
   "outputs": [
    {
     "name": "stderr",
     "output_type": "stream",
     "text": [
      "\n",
      "Attaching package: ‘dplyr’\n",
      "\n",
      "\n",
      "The following objects are masked from ‘package:data.table’:\n",
      "\n",
      "    between, first, last\n",
      "\n",
      "\n",
      "The following objects are masked from ‘package:stats’:\n",
      "\n",
      "    filter, lag\n",
      "\n",
      "\n",
      "The following objects are masked from ‘package:base’:\n",
      "\n",
      "    intersect, setdiff, setequal, union\n",
      "\n",
      "\n"
     ]
    }
   ],
   "source": [
    "library(brms)\n",
    "library(dplyr)\n",
    "library(ggdist)\n",
    "library(rstan)\n",
    "library(cmdstanr)\n",
    "library(patchwork)"
   ]
  },
  {
   "cell_type": "markdown",
   "id": "bab7b729-cb93-45df-990b-9455ff4ec1b2",
   "metadata": {},
   "source": [
    "# Analysis 2.3 from ExtendedMethods.html"
   ]
  },
  {
   "cell_type": "code",
   "execution_count": 3,
   "id": "338275a7-852a-44c9-988f-ae8df9d172fd",
   "metadata": {},
   "outputs": [],
   "source": [
    "dirname <- \"B117fits\"\n",
    "if (!dir.exists(dirname)) {\n",
    "  dir.create(dirname)\n",
    "}"
   ]
  },
  {
   "cell_type": "markdown",
   "id": "5728fe6d-80ea-4b60-94c9-f84950cba28b",
   "metadata": {},
   "source": [
    "## get data\n"
   ]
  },
  {
   "cell_type": "code",
   "execution_count": 14,
   "id": "bb90e691-02eb-40f0-a5c5-f189e682f17c",
   "metadata": {},
   "outputs": [
    {
     "name": "stdout",
     "output_type": "stream",
     "text": [
      "[1] 2428   39\n"
     ]
    }
   ],
   "source": [
    "bdata = \n",
    "  get_log10Load_data() %>%\n",
    "  .[, PCR_Gender_Group := factor(paste0(PCR,\"_\",Gender,\"_\",Group))] %>%\n",
    "  .[, PCR_Group := factor(paste0(PCR,\"_\",Group))] %>%\n",
    "  .[, fAgeGroup := factor(AgeGroup, ordered = F)] %>% \n",
    "  .[, Male := ifelse(Gender == \"M\",1,ifelse(Gender == \"F\",0,.5))]\n",
    "\n",
    "bdata.B117 = \n",
    "  bdata %>%\n",
    "  .[, B117 := factor(B117, labels = c(\"non-B117\",\"B117\"))] %>% \n",
    "  .[, Sex := ifelse(Gender == \"U\",.5,ifelse(Gender == \"M\",1,0))]\n",
    "\n",
    "B117data = \n",
    "  bdata.B117 %>%\n",
    "  .[B117CentreDay1 == 1]\n",
    "### with adjustment, non-B117 & B117 in centre ####\n",
    "CentresWithMin2Cases = \n",
    "  B117data[,.(N = .N), by = .(TestCentre)][N > 1,TestCentre]\n",
    "B117data = \n",
    "  B117data[TestCentre %in% CentresWithMin2Cases]\n",
    "print(dim(B117data))"
   ]
  },
  {
   "cell_type": "markdown",
   "id": "1159c30e-9160-4515-8b4c-32eaa6d9b320",
   "metadata": {},
   "source": [
    "## save data to disk"
   ]
  },
  {
   "cell_type": "code",
   "execution_count": 58,
   "id": "fe19887f-224b-485e-897d-5f19dc3ddcd7",
   "metadata": {},
   "outputs": [],
   "source": [
    "write.csv(B117data, \n",
    "          file = \"B117data.csv\",\n",
    "          row.names = FALSE)"
   ]
  },
  {
   "cell_type": "markdown",
   "id": "53239188-d224-43b5-ac84-81e1110a6178",
   "metadata": {},
   "source": [
    "## define formula"
   ]
  },
  {
   "cell_type": "code",
   "execution_count": 15,
   "id": "275a82c2-b436-4aea-84db-fe33516781ef",
   "metadata": {},
   "outputs": [],
   "source": [
    "B117model.re.adjusted =\n",
    "  bf(log10Load ~ B117 + Group + Sex + PCR + s(Age) + (1 | TestCentre),\n",
    "     sigma ~ B117 + PAMS + (1 | TestCentre))"
   ]
  },
  {
   "cell_type": "markdown",
   "id": "ae9586ee-83d9-437c-bfae-dc8f91d6c15d",
   "metadata": {},
   "source": [
    "## make stancode"
   ]
  },
  {
   "cell_type": "code",
   "execution_count": 16,
   "id": "e0e20e6b-e148-4696-a800-3b641ce829fc",
   "metadata": {},
   "outputs": [
    {
     "name": "stdout",
     "output_type": "stream",
     "text": [
      "// generated with brms 2.20.4\n",
      "functions {\n",
      "}\n",
      "data {\n",
      "  int<lower=1> N;  // total number of observations\n",
      "  vector[N] Y;  // response variable\n",
      "  int<lower=1> K;  // number of population-level effects\n",
      "  matrix[N, K] X;  // population-level design matrix\n",
      "  int<lower=1> Kc;  // number of population-level effects after centering\n",
      "  // data for splines\n",
      "  int Ks;  // number of linear effects\n",
      "  matrix[N, Ks] Xs;  // design matrix for the linear effects\n",
      "  // data for spline 1\n",
      "  int nb_1;  // number of bases\n",
      "  array[nb_1] int knots_1;  // number of knots\n",
      "  // basis function matrices\n",
      "  matrix[N, knots_1[1]] Zs_1_1;\n",
      "  int<lower=1> K_sigma;  // number of population-level effects\n",
      "  matrix[N, K_sigma] X_sigma;  // population-level design matrix\n",
      "  int<lower=1> Kc_sigma;  // number of population-level effects after centering\n",
      "  // data for group-level effects of ID 1\n",
      "  int<lower=1> N_1;  // number of grouping levels\n",
      "  int<lower=1> M_1;  // number of coefficients per level\n",
      "  array[N] int<lower=1> J_1;  // grouping indicator per observation\n",
      "  // group-level predictor values\n",
      "  vector[N] Z_1_1;\n",
      "  // data for group-level effects of ID 2\n",
      "  int<lower=1> N_2;  // number of grouping levels\n",
      "  int<lower=1> M_2;  // number of coefficients per level\n",
      "  array[N] int<lower=1> J_2;  // grouping indicator per observation\n",
      "  // group-level predictor values\n",
      "  vector[N] Z_2_sigma_1;\n",
      "  int prior_only;  // should the likelihood be ignored?\n",
      "}\n",
      "transformed data {\n",
      "  matrix[N, Kc] Xc;  // centered version of X without an intercept\n",
      "  vector[Kc] means_X;  // column means of X before centering\n",
      "  matrix[N, Kc_sigma] Xc_sigma;  // centered version of X_sigma without an intercept\n",
      "  vector[Kc_sigma] means_X_sigma;  // column means of X_sigma before centering\n",
      "  for (i in 2:K) {\n",
      "    means_X[i - 1] = mean(X[, i]);\n",
      "    Xc[, i - 1] = X[, i] - means_X[i - 1];\n",
      "  }\n",
      "  for (i in 2:K_sigma) {\n",
      "    means_X_sigma[i - 1] = mean(X_sigma[, i]);\n",
      "    Xc_sigma[, i - 1] = X_sigma[, i] - means_X_sigma[i - 1];\n",
      "  }\n",
      "}\n",
      "parameters {\n",
      "  vector[Kc] b;  // regression coefficients\n",
      "  real Intercept;  // temporary intercept for centered predictors\n",
      "  vector[Ks] bs;  // unpenalized spline coefficients\n",
      "  // parameters for spline 1\n",
      "  // standardized penalized spline coefficients\n",
      "  vector[knots_1[1]] zs_1_1;\n",
      "  vector<lower=0>[nb_1] sds_1;  // SDs of penalized spline coefficients\n",
      "  vector[Kc_sigma] b_sigma;  // regression coefficients\n",
      "  real Intercept_sigma;  // temporary intercept for centered predictors\n",
      "  vector<lower=0>[M_1] sd_1;  // group-level standard deviations\n",
      "  array[M_1] vector[N_1] z_1;  // standardized group-level effects\n",
      "  vector<lower=0>[M_2] sd_2;  // group-level standard deviations\n",
      "  array[M_2] vector[N_2] z_2;  // standardized group-level effects\n",
      "}\n",
      "transformed parameters {\n",
      "  // penalized spline coefficients\n",
      "  vector[knots_1[1]] s_1_1;\n",
      "  vector[N_1] r_1_1;  // actual group-level effects\n",
      "  vector[N_2] r_2_sigma_1;  // actual group-level effects\n",
      "  real lprior = 0;  // prior contributions to the log posterior\n",
      "  // compute penalized spline coefficients\n",
      "  s_1_1 = sds_1[1] * zs_1_1;\n",
      "  r_1_1 = (sd_1[1] * (z_1[1]));\n",
      "  r_2_sigma_1 = (sd_2[1] * (z_2[1]));\n",
      "  lprior += student_t_lpdf(Intercept | 3, 7.2, 2.5);\n",
      "  lprior += student_t_lpdf(sds_1 | 3, 0, 2.5)\n",
      "    - 1 * student_t_lccdf(0 | 3, 0, 2.5);\n",
      "  lprior += student_t_lpdf(Intercept_sigma | 3, 0, 2.5);\n",
      "  lprior += student_t_lpdf(sd_1 | 3, 0, 2.5)\n",
      "    - 1 * student_t_lccdf(0 | 3, 0, 2.5);\n",
      "  lprior += student_t_lpdf(sd_2 | 3, 0, 2.5)\n",
      "    - 1 * student_t_lccdf(0 | 3, 0, 2.5);\n",
      "}\n",
      "model {\n",
      "  // likelihood including constants\n",
      "  if (!prior_only) {\n",
      "    // initialize linear predictor term\n",
      "    vector[N] mu = rep_vector(0.0, N);\n",
      "    // initialize linear predictor term\n",
      "    vector[N] sigma = rep_vector(0.0, N);\n",
      "    mu += Intercept + Xc * b + Xs * bs + Zs_1_1 * s_1_1;\n",
      "    sigma += Intercept_sigma + Xc_sigma * b_sigma;\n",
      "    for (n in 1:N) {\n",
      "      // add more terms to the linear predictor\n",
      "      mu[n] += r_1_1[J_1[n]] * Z_1_1[n];\n",
      "    }\n",
      "    for (n in 1:N) {\n",
      "      // add more terms to the linear predictor\n",
      "      sigma[n] += r_2_sigma_1[J_2[n]] * Z_2_sigma_1[n];\n",
      "    }\n",
      "    sigma = exp(sigma);\n",
      "    target += normal_lpdf(Y | mu, sigma);\n",
      "  }\n",
      "  // priors including constants\n",
      "  target += lprior;\n",
      "  target += std_normal_lpdf(zs_1_1);\n",
      "  target += std_normal_lpdf(z_1[1]);\n",
      "  target += std_normal_lpdf(z_2[1]);\n",
      "}\n",
      "generated quantities {\n",
      "  // actual population-level intercept\n",
      "  real b_Intercept = Intercept - dot_product(means_X, b);\n",
      "  // actual population-level intercept\n",
      "  real b_sigma_Intercept = Intercept_sigma - dot_product(means_X_sigma, b_sigma);\n",
      "}\n"
     ]
    }
   ],
   "source": [
    "scode <- make_stancode(B117model.re.adjusted, data = B117data)\n",
    "spath <- write_stan_file(scode)\n",
    "cat(scode)"
   ]
  },
  {
   "cell_type": "markdown",
   "id": "bd72c156-19d0-4867-88f4-1381f2fd8104",
   "metadata": {},
   "source": [
    "## make standata"
   ]
  },
  {
   "cell_type": "code",
   "execution_count": 17,
   "id": "4ef78f2e-3775-494f-893e-53216e50d3d2",
   "metadata": {},
   "outputs": [],
   "source": [
    "sdata <- make_standata(B117model.re.adjusted, data = B117data)"
   ]
  },
  {
   "cell_type": "markdown",
   "id": "e33717e5-398f-446e-9191-7b412febc273",
   "metadata": {},
   "source": [
    "The B117B117 column is part of sdata$X. Based on the column names, we guess that in the original data, B117 is a factor variable with two levels, one being B117. Based on the stancode (see the transformed data block), b_B117B117 in the equivalent brm() fit is the first entry of the coefficient vector b in a cmdstanr fit."
   ]
  },
  {
   "cell_type": "code",
   "execution_count": 18,
   "id": "152e38ad-f2dc-4087-9493-b6e4ef2fca25",
   "metadata": {},
   "outputs": [
    {
     "data": {
      "text/html": [
       "<table class=\"dataframe\">\n",
       "<caption>A matrix: 6 × 6 of type dbl</caption>\n",
       "<thead>\n",
       "\t<tr><th></th><th scope=col>Intercept</th><th scope=col>B117B117</th><th scope=col>GroupPAMS</th><th scope=col>GroupHospitalized</th><th scope=col>Sex</th><th scope=col>PCRLC480</th></tr>\n",
       "</thead>\n",
       "<tbody>\n",
       "\t<tr><th scope=row>1</th><td>1</td><td>1</td><td>0</td><td>0</td><td>0</td><td>0</td></tr>\n",
       "\t<tr><th scope=row>2</th><td>1</td><td>0</td><td>0</td><td>0</td><td>1</td><td>0</td></tr>\n",
       "\t<tr><th scope=row>3</th><td>1</td><td>1</td><td>0</td><td>0</td><td>1</td><td>0</td></tr>\n",
       "\t<tr><th scope=row>4</th><td>1</td><td>0</td><td>1</td><td>0</td><td>1</td><td>0</td></tr>\n",
       "\t<tr><th scope=row>5</th><td>1</td><td>1</td><td>0</td><td>0</td><td>1</td><td>0</td></tr>\n",
       "\t<tr><th scope=row>6</th><td>1</td><td>1</td><td>0</td><td>1</td><td>1</td><td>0</td></tr>\n",
       "</tbody>\n",
       "</table>\n"
      ],
      "text/latex": [
       "A matrix: 6 × 6 of type dbl\n",
       "\\begin{tabular}{r|llllll}\n",
       "  & Intercept & B117B117 & GroupPAMS & GroupHospitalized & Sex & PCRLC480\\\\\n",
       "\\hline\n",
       "\t1 & 1 & 1 & 0 & 0 & 0 & 0\\\\\n",
       "\t2 & 1 & 0 & 0 & 0 & 1 & 0\\\\\n",
       "\t3 & 1 & 1 & 0 & 0 & 1 & 0\\\\\n",
       "\t4 & 1 & 0 & 1 & 0 & 1 & 0\\\\\n",
       "\t5 & 1 & 1 & 0 & 0 & 1 & 0\\\\\n",
       "\t6 & 1 & 1 & 0 & 1 & 1 & 0\\\\\n",
       "\\end{tabular}\n"
      ],
      "text/markdown": [
       "\n",
       "A matrix: 6 × 6 of type dbl\n",
       "\n",
       "| <!--/--> | Intercept | B117B117 | GroupPAMS | GroupHospitalized | Sex | PCRLC480 |\n",
       "|---|---|---|---|---|---|---|\n",
       "| 1 | 1 | 1 | 0 | 0 | 0 | 0 |\n",
       "| 2 | 1 | 0 | 0 | 0 | 1 | 0 |\n",
       "| 3 | 1 | 1 | 0 | 0 | 1 | 0 |\n",
       "| 4 | 1 | 0 | 1 | 0 | 1 | 0 |\n",
       "| 5 | 1 | 1 | 0 | 0 | 1 | 0 |\n",
       "| 6 | 1 | 1 | 0 | 1 | 1 | 0 |\n",
       "\n"
      ],
      "text/plain": [
       "  Intercept B117B117 GroupPAMS GroupHospitalized Sex PCRLC480\n",
       "1 1         1        0         0                 0   0       \n",
       "2 1         0        0         0                 1   0       \n",
       "3 1         1        0         0                 1   0       \n",
       "4 1         0        1         0                 1   0       \n",
       "5 1         1        0         0                 1   0       \n",
       "6 1         1        0         1                 1   0       "
      ]
     },
     "metadata": {},
     "output_type": "display_data"
    }
   ],
   "source": [
    "head(sdata$X) "
   ]
  },
  {
   "cell_type": "markdown",
   "id": "8139d601-0358-4fcd-b4b8-4c3628ada334",
   "metadata": {},
   "source": [
    "Number of linear terms including intercept"
   ]
  },
  {
   "cell_type": "code",
   "execution_count": 19,
   "id": "4a093d6f-516a-4686-aa08-c4a325d52c9a",
   "metadata": {},
   "outputs": [
    {
     "data": {
      "text/html": [
       "6"
      ],
      "text/latex": [
       "6"
      ],
      "text/markdown": [
       "6"
      ],
      "text/plain": [
       "[1] 6"
      ]
     },
     "metadata": {},
     "output_type": "display_data"
    }
   ],
   "source": [
    "sdata$K"
   ]
  },
  {
   "cell_type": "markdown",
   "id": "69d3f474-a7ac-49f4-be03-4ca1bd8736f3",
   "metadata": {},
   "source": [
    "Number of linear terms discarding intercept"
   ]
  },
  {
   "cell_type": "code",
   "execution_count": 20,
   "id": "09d6ea30-fdc5-4ad9-a188-793af964b8dc",
   "metadata": {},
   "outputs": [
    {
     "data": {
      "text/html": [
       "5"
      ],
      "text/latex": [
       "5"
      ],
      "text/markdown": [
       "5"
      ],
      "text/plain": [
       "[1] 5"
      ]
     },
     "metadata": {},
     "output_type": "display_data"
    }
   ],
   "source": [
    "sdata$Kc"
   ]
  },
  {
   "cell_type": "markdown",
   "id": "ae0bec22-1964-4d7c-b45e-a04becd61fa5",
   "metadata": {},
   "source": [
    "## fit model"
   ]
  },
  {
   "cell_type": "markdown",
   "id": "b4a853b1-89b3-4bb5-a5d6-939bee0736fd",
   "metadata": {},
   "source": [
    "### brms\n",
    "Takes about 6 minutes to draw samples."
   ]
  },
  {
   "cell_type": "code",
   "execution_count": 22,
   "id": "c19a2212-4710-4cce-b2d6-54edbbf3f444",
   "metadata": {
    "tags": []
   },
   "outputs": [
    {
     "name": "stderr",
     "output_type": "stream",
     "text": [
      "Start sampling\n",
      "\n",
      "Chain 3 Informational Message: The current Metropolis proposal is about to be rejected because of the following issue:\n",
      "\n",
      "Chain 3 Exception: normal_lpdf: Location parameter[1] is inf, but must be finite! (in '/state/partition1/slurm_tmp/24347863.0.0/Rtmp5TQ9fY/model-371fbd27208d77.stan', line 102, column 4 to column 41)\n",
      "\n",
      "Chain 3 If this warning occurs sporadically, such as for highly constrained variable types like covariance matrices, then the sampler is fine,\n",
      "\n",
      "Chain 3 but if this warning occurs often then your model may be either severely ill-conditioned or misspecified.\n",
      "\n",
      "Chain 3 \n",
      "\n",
      "Chain 3 Informational Message: The current Metropolis proposal is about to be rejected because of the following issue:\n",
      "\n",
      "Chain 3 Exception: normal_lpdf: Location parameter[1] is inf, but must be finite! (in '/state/partition1/slurm_tmp/24347863.0.0/Rtmp5TQ9fY/model-371fbd27208d77.stan', line 102, column 4 to column 41)\n",
      "\n",
      "Chain 3 If this warning occurs sporadically, such as for highly constrained variable types like covariance matrices, then the sampler is fine,\n",
      "\n",
      "Chain 3 but if this warning occurs often then your model may be either severely ill-conditioned or misspecified.\n",
      "\n",
      "Chain 3 \n",
      "\n",
      "Chain 3 Informational Message: The current Metropolis proposal is about to be rejected because of the following issue:\n",
      "\n",
      "Chain 3 Exception: normal_lpdf: Location parameter[1] is inf, but must be finite! (in '/state/partition1/slurm_tmp/24347863.0.0/Rtmp5TQ9fY/model-371fbd27208d77.stan', line 102, column 4 to column 41)\n",
      "\n",
      "Chain 3 If this warning occurs sporadically, such as for highly constrained variable types like covariance matrices, then the sampler is fine,\n",
      "\n",
      "Chain 3 but if this warning occurs often then your model may be either severely ill-conditioned or misspecified.\n",
      "\n",
      "Chain 3 \n",
      "\n",
      "Chain 3 Informational Message: The current Metropolis proposal is about to be rejected because of the following issue:\n",
      "\n",
      "Chain 3 Exception: normal_lpdf: Location parameter[1] is inf, but must be finite! (in '/state/partition1/slurm_tmp/24347863.0.0/Rtmp5TQ9fY/model-371fbd27208d77.stan', line 102, column 4 to column 41)\n",
      "\n",
      "Chain 3 If this warning occurs sporadically, such as for highly constrained variable types like covariance matrices, then the sampler is fine,\n",
      "\n",
      "Chain 3 but if this warning occurs often then your model may be either severely ill-conditioned or misspecified.\n",
      "\n",
      "Chain 3 \n",
      "\n",
      "Chain 3 Informational Message: The current Metropolis proposal is about to be rejected because of the following issue:\n",
      "\n",
      "Chain 3 Exception: normal_lpdf: Location parameter[1] is inf, but must be finite! (in '/state/partition1/slurm_tmp/24347863.0.0/Rtmp5TQ9fY/model-371fbd27208d77.stan', line 102, column 4 to column 41)\n",
      "\n",
      "Chain 3 If this warning occurs sporadically, such as for highly constrained variable types like covariance matrices, then the sampler is fine,\n",
      "\n",
      "Chain 3 but if this warning occurs often then your model may be either severely ill-conditioned or misspecified.\n",
      "\n",
      "Chain 3 \n",
      "\n",
      "Chain 3 Informational Message: The current Metropolis proposal is about to be rejected because of the following issue:\n",
      "\n",
      "Chain 3 Exception: normal_lpdf: Location parameter[1] is inf, but must be finite! (in '/state/partition1/slurm_tmp/24347863.0.0/Rtmp5TQ9fY/model-371fbd27208d77.stan', line 102, column 4 to column 41)\n",
      "\n",
      "Chain 3 If this warning occurs sporadically, such as for highly constrained variable types like covariance matrices, then the sampler is fine,\n",
      "\n",
      "Chain 3 but if this warning occurs often then your model may be either severely ill-conditioned or misspecified.\n",
      "\n",
      "Chain 3 \n",
      "\n",
      "Chain 3 Informational Message: The current Metropolis proposal is about to be rejected because of the following issue:\n",
      "\n",
      "Chain 3 Exception: normal_lpdf: Location parameter[1] is inf, but must be finite! (in '/state/partition1/slurm_tmp/24347863.0.0/Rtmp5TQ9fY/model-371fbd27208d77.stan', line 102, column 4 to column 41)\n",
      "\n",
      "Chain 3 If this warning occurs sporadically, such as for highly constrained variable types like covariance matrices, then the sampler is fine,\n",
      "\n",
      "Chain 3 but if this warning occurs often then your model may be either severely ill-conditioned or misspecified.\n",
      "\n",
      "Chain 3 \n",
      "\n",
      "Chain 3 Informational Message: The current Metropolis proposal is about to be rejected because of the following issue:\n",
      "\n",
      "Chain 3 Exception: normal_lpdf: Location parameter[1] is inf, but must be finite! (in '/state/partition1/slurm_tmp/24347863.0.0/Rtmp5TQ9fY/model-371fbd27208d77.stan', line 102, column 4 to column 41)\n",
      "\n",
      "Chain 3 If this warning occurs sporadically, such as for highly constrained variable types like covariance matrices, then the sampler is fine,\n",
      "\n",
      "Chain 3 but if this warning occurs often then your model may be either severely ill-conditioned or misspecified.\n",
      "\n",
      "Chain 3 \n",
      "\n",
      "Chain 3 Informational Message: The current Metropolis proposal is about to be rejected because of the following issue:\n",
      "\n",
      "Chain 3 Exception: normal_lpdf: Location parameter[1] is inf, but must be finite! (in '/state/partition1/slurm_tmp/24347863.0.0/Rtmp5TQ9fY/model-371fbd27208d77.stan', line 102, column 4 to column 41)\n",
      "\n",
      "Chain 3 If this warning occurs sporadically, such as for highly constrained variable types like covariance matrices, then the sampler is fine,\n",
      "\n",
      "Chain 3 but if this warning occurs often then your model may be either severely ill-conditioned or misspecified.\n",
      "\n",
      "Chain 3 \n",
      "\n",
      "Chain 3 Informational Message: The current Metropolis proposal is about to be rejected because of the following issue:\n",
      "\n",
      "Chain 3 Exception: normal_lpdf: Location parameter[1] is inf, but must be finite! (in '/state/partition1/slurm_tmp/24347863.0.0/Rtmp5TQ9fY/model-371fbd27208d77.stan', line 102, column 4 to column 41)\n",
      "\n",
      "Chain 3 If this warning occurs sporadically, such as for highly constrained variable types like covariance matrices, then the sampler is fine,\n",
      "\n",
      "Chain 3 but if this warning occurs often then your model may be either severely ill-conditioned or misspecified.\n",
      "\n",
      "Chain 3 \n",
      "\n",
      "Chain 3 Informational Message: The current Metropolis proposal is about to be rejected because of the following issue:\n",
      "\n",
      "Chain 3 Exception: normal_lpdf: Location parameter[1] is inf, but must be finite! (in '/state/partition1/slurm_tmp/24347863.0.0/Rtmp5TQ9fY/model-371fbd27208d77.stan', line 102, column 4 to column 41)\n",
      "\n",
      "Chain 3 If this warning occurs sporadically, such as for highly constrained variable types like covariance matrices, then the sampler is fine,\n",
      "\n",
      "Chain 3 but if this warning occurs often then your model may be either severely ill-conditioned or misspecified.\n",
      "\n",
      "Chain 3 \n",
      "\n",
      "Chain 3 Informational Message: The current Metropolis proposal is about to be rejected because of the following issue:\n",
      "\n",
      "Chain 3 Exception: normal_lpdf: Location parameter[1] is inf, but must be finite! (in '/state/partition1/slurm_tmp/24347863.0.0/Rtmp5TQ9fY/model-371fbd27208d77.stan', line 102, column 4 to column 41)\n",
      "\n",
      "Chain 3 If this warning occurs sporadically, such as for highly constrained variable types like covariance matrices, then the sampler is fine,\n",
      "\n",
      "Chain 3 but if this warning occurs often then your model may be either severely ill-conditioned or misspecified.\n",
      "\n",
      "Chain 3 \n",
      "\n",
      "Chain 3 Informational Message: The current Metropolis proposal is about to be rejected because of the following issue:\n",
      "\n",
      "Chain 3 Exception: normal_lpdf: Location parameter[1] is inf, but must be finite! (in '/state/partition1/slurm_tmp/24347863.0.0/Rtmp5TQ9fY/model-371fbd27208d77.stan', line 102, column 4 to column 41)\n",
      "\n",
      "Chain 3 If this warning occurs sporadically, such as for highly constrained variable types like covariance matrices, then the sampler is fine,\n",
      "\n",
      "Chain 3 but if this warning occurs often then your model may be either severely ill-conditioned or misspecified.\n",
      "\n",
      "Chain 3 \n",
      "\n",
      "Chain 3 Informational Message: The current Metropolis proposal is about to be rejected because of the following issue:\n",
      "\n",
      "Chain 3 Exception: normal_lpdf: Location parameter[1] is inf, but must be finite! (in '/state/partition1/slurm_tmp/24347863.0.0/Rtmp5TQ9fY/model-371fbd27208d77.stan', line 102, column 4 to column 41)\n",
      "\n",
      "Chain 3 If this warning occurs sporadically, such as for highly constrained variable types like covariance matrices, then the sampler is fine,\n",
      "\n",
      "Chain 3 but if this warning occurs often then your model may be either severely ill-conditioned or misspecified.\n",
      "\n",
      "Chain 3 \n",
      "\n"
     ]
    }
   ],
   "source": [
    "Bfit <- brm(formula = B117model.re.adjusted, \n",
    "            data = B117data,\n",
    "            backend = \"cmdstanr\",\n",
    "            iter = 3500,\n",
    "            chains = 4,\n",
    "            cores = 4,\n",
    "            warmup = 1000,\n",
    "            refresh = 0,\n",
    "            control = list(adapt_delta = 0.99))"
   ]
  },
  {
   "cell_type": "markdown",
   "id": "2beb3c4e-7ba5-423b-b5c1-4e0061ed19dc",
   "metadata": {},
   "source": [
    "### cmdstanr"
   ]
  },
  {
   "cell_type": "code",
   "execution_count": 23,
   "id": "7138901b-e552-49fc-9122-04da294f845b",
   "metadata": {},
   "outputs": [
    {
     "name": "stdout",
     "output_type": "stream",
     "text": [
      "Running MCMC with 4 parallel chains...\n",
      "\n"
     ]
    },
    {
     "name": "stderr",
     "output_type": "stream",
     "text": [
      "Chain 1 Informational Message: The current Metropolis proposal is about to be rejected because of the following issue:\n",
      "\n",
      "Chain 1 Exception: normal_lpdf: Location parameter[1] is inf, but must be finite! (in '/state/partition1/slurm_tmp/24347863.0.0/Rtmp5TQ9fY/model-371fbd34bd1bc9.stan', line 101, column 4 to column 41)\n",
      "\n",
      "Chain 1 If this warning occurs sporadically, such as for highly constrained variable types like covariance matrices, then the sampler is fine,\n",
      "\n",
      "Chain 1 but if this warning occurs often then your model may be either severely ill-conditioned or misspecified.\n",
      "\n",
      "Chain 1 \n",
      "\n",
      "Chain 1 Informational Message: The current Metropolis proposal is about to be rejected because of the following issue:\n",
      "\n",
      "Chain 1 Exception: normal_lpdf: Location parameter[1] is -inf, but must be finite! (in '/state/partition1/slurm_tmp/24347863.0.0/Rtmp5TQ9fY/model-371fbd34bd1bc9.stan', line 101, column 4 to column 41)\n",
      "\n",
      "Chain 1 If this warning occurs sporadically, such as for highly constrained variable types like covariance matrices, then the sampler is fine,\n",
      "\n",
      "Chain 1 but if this warning occurs often then your model may be either severely ill-conditioned or misspecified.\n",
      "\n",
      "Chain 1 \n",
      "\n",
      "Chain 1 Informational Message: The current Metropolis proposal is about to be rejected because of the following issue:\n",
      "\n",
      "Chain 1 Exception: normal_lpdf: Location parameter[1] is -inf, but must be finite! (in '/state/partition1/slurm_tmp/24347863.0.0/Rtmp5TQ9fY/model-371fbd34bd1bc9.stan', line 101, column 4 to column 41)\n",
      "\n",
      "Chain 1 If this warning occurs sporadically, such as for highly constrained variable types like covariance matrices, then the sampler is fine,\n",
      "\n",
      "Chain 1 but if this warning occurs often then your model may be either severely ill-conditioned or misspecified.\n",
      "\n",
      "Chain 1 \n",
      "\n",
      "Chain 1 Informational Message: The current Metropolis proposal is about to be rejected because of the following issue:\n",
      "\n",
      "Chain 1 Exception: normal_lpdf: Location parameter[1] is -inf, but must be finite! (in '/state/partition1/slurm_tmp/24347863.0.0/Rtmp5TQ9fY/model-371fbd34bd1bc9.stan', line 101, column 4 to column 41)\n",
      "\n",
      "Chain 1 If this warning occurs sporadically, such as for highly constrained variable types like covariance matrices, then the sampler is fine,\n",
      "\n",
      "Chain 1 but if this warning occurs often then your model may be either severely ill-conditioned or misspecified.\n",
      "\n",
      "Chain 1 \n",
      "\n",
      "Chain 1 Informational Message: The current Metropolis proposal is about to be rejected because of the following issue:\n",
      "\n",
      "Chain 1 Exception: normal_lpdf: Location parameter[1] is -inf, but must be finite! (in '/state/partition1/slurm_tmp/24347863.0.0/Rtmp5TQ9fY/model-371fbd34bd1bc9.stan', line 101, column 4 to column 41)\n",
      "\n",
      "Chain 1 If this warning occurs sporadically, such as for highly constrained variable types like covariance matrices, then the sampler is fine,\n",
      "\n",
      "Chain 1 but if this warning occurs often then your model may be either severely ill-conditioned or misspecified.\n",
      "\n",
      "Chain 1 \n",
      "\n",
      "Chain 1 Informational Message: The current Metropolis proposal is about to be rejected because of the following issue:\n",
      "\n",
      "Chain 1 Exception: normal_lpdf: Location parameter[1] is -inf, but must be finite! (in '/state/partition1/slurm_tmp/24347863.0.0/Rtmp5TQ9fY/model-371fbd34bd1bc9.stan', line 101, column 4 to column 41)\n",
      "\n",
      "Chain 1 If this warning occurs sporadically, such as for highly constrained variable types like covariance matrices, then the sampler is fine,\n",
      "\n",
      "Chain 1 but if this warning occurs often then your model may be either severely ill-conditioned or misspecified.\n",
      "\n",
      "Chain 1 \n",
      "\n",
      "Chain 1 Informational Message: The current Metropolis proposal is about to be rejected because of the following issue:\n",
      "\n",
      "Chain 1 Exception: normal_lpdf: Location parameter[1] is -inf, but must be finite! (in '/state/partition1/slurm_tmp/24347863.0.0/Rtmp5TQ9fY/model-371fbd34bd1bc9.stan', line 101, column 4 to column 41)\n",
      "\n",
      "Chain 1 If this warning occurs sporadically, such as for highly constrained variable types like covariance matrices, then the sampler is fine,\n",
      "\n",
      "Chain 1 but if this warning occurs often then your model may be either severely ill-conditioned or misspecified.\n",
      "\n",
      "Chain 1 \n",
      "\n",
      "Chain 1 Informational Message: The current Metropolis proposal is about to be rejected because of the following issue:\n",
      "\n",
      "Chain 1 Exception: normal_lpdf: Location parameter[1] is -inf, but must be finite! (in '/state/partition1/slurm_tmp/24347863.0.0/Rtmp5TQ9fY/model-371fbd34bd1bc9.stan', line 101, column 4 to column 41)\n",
      "\n",
      "Chain 1 If this warning occurs sporadically, such as for highly constrained variable types like covariance matrices, then the sampler is fine,\n",
      "\n",
      "Chain 1 but if this warning occurs often then your model may be either severely ill-conditioned or misspecified.\n",
      "\n",
      "Chain 1 \n",
      "\n",
      "Chain 1 Informational Message: The current Metropolis proposal is about to be rejected because of the following issue:\n",
      "\n",
      "Chain 1 Exception: normal_lpdf: Location parameter[1] is -inf, but must be finite! (in '/state/partition1/slurm_tmp/24347863.0.0/Rtmp5TQ9fY/model-371fbd34bd1bc9.stan', line 101, column 4 to column 41)\n",
      "\n",
      "Chain 1 If this warning occurs sporadically, such as for highly constrained variable types like covariance matrices, then the sampler is fine,\n",
      "\n",
      "Chain 1 but if this warning occurs often then your model may be either severely ill-conditioned or misspecified.\n",
      "\n",
      "Chain 1 \n",
      "\n",
      "Chain 1 Informational Message: The current Metropolis proposal is about to be rejected because of the following issue:\n",
      "\n",
      "Chain 1 Exception: normal_lpdf: Location parameter[1] is inf, but must be finite! (in '/state/partition1/slurm_tmp/24347863.0.0/Rtmp5TQ9fY/model-371fbd34bd1bc9.stan', line 101, column 4 to column 41)\n",
      "\n",
      "Chain 1 If this warning occurs sporadically, such as for highly constrained variable types like covariance matrices, then the sampler is fine,\n",
      "\n",
      "Chain 1 but if this warning occurs often then your model may be either severely ill-conditioned or misspecified.\n",
      "\n",
      "Chain 1 \n",
      "\n",
      "Chain 1 Informational Message: The current Metropolis proposal is about to be rejected because of the following issue:\n",
      "\n",
      "Chain 1 Exception: normal_lpdf: Location parameter[1] is inf, but must be finite! (in '/state/partition1/slurm_tmp/24347863.0.0/Rtmp5TQ9fY/model-371fbd34bd1bc9.stan', line 101, column 4 to column 41)\n",
      "\n",
      "Chain 1 If this warning occurs sporadically, such as for highly constrained variable types like covariance matrices, then the sampler is fine,\n",
      "\n",
      "Chain 1 but if this warning occurs often then your model may be either severely ill-conditioned or misspecified.\n",
      "\n",
      "Chain 1 \n",
      "\n",
      "Chain 1 Informational Message: The current Metropolis proposal is about to be rejected because of the following issue:\n",
      "\n",
      "Chain 1 Exception: normal_lpdf: Location parameter[1] is -inf, but must be finite! (in '/state/partition1/slurm_tmp/24347863.0.0/Rtmp5TQ9fY/model-371fbd34bd1bc9.stan', line 101, column 4 to column 41)\n",
      "\n",
      "Chain 1 If this warning occurs sporadically, such as for highly constrained variable types like covariance matrices, then the sampler is fine,\n",
      "\n",
      "Chain 1 but if this warning occurs often then your model may be either severely ill-conditioned or misspecified.\n",
      "\n",
      "Chain 1 \n",
      "\n",
      "Chain 3 Informational Message: The current Metropolis proposal is about to be rejected because of the following issue:\n",
      "\n",
      "Chain 3 Exception: normal_lpdf: Location parameter[1] is -nan, but must be finite! (in '/state/partition1/slurm_tmp/24347863.0.0/Rtmp5TQ9fY/model-371fbd34bd1bc9.stan', line 101, column 4 to column 41)\n",
      "\n",
      "Chain 3 If this warning occurs sporadically, such as for highly constrained variable types like covariance matrices, then the sampler is fine,\n",
      "\n",
      "Chain 3 but if this warning occurs often then your model may be either severely ill-conditioned or misspecified.\n",
      "\n",
      "Chain 3 \n",
      "\n",
      "Chain 3 Informational Message: The current Metropolis proposal is about to be rejected because of the following issue:\n",
      "\n",
      "Chain 3 Exception: normal_lpdf: Location parameter[1] is -nan, but must be finite! (in '/state/partition1/slurm_tmp/24347863.0.0/Rtmp5TQ9fY/model-371fbd34bd1bc9.stan', line 101, column 4 to column 41)\n",
      "\n",
      "Chain 3 If this warning occurs sporadically, such as for highly constrained variable types like covariance matrices, then the sampler is fine,\n",
      "\n",
      "Chain 3 but if this warning occurs often then your model may be either severely ill-conditioned or misspecified.\n",
      "\n",
      "Chain 3 \n",
      "\n",
      "Chain 3 Informational Message: The current Metropolis proposal is about to be rejected because of the following issue:\n",
      "\n",
      "Chain 3 Exception: normal_lpdf: Location parameter[1] is -nan, but must be finite! (in '/state/partition1/slurm_tmp/24347863.0.0/Rtmp5TQ9fY/model-371fbd34bd1bc9.stan', line 101, column 4 to column 41)\n",
      "\n",
      "Chain 3 If this warning occurs sporadically, such as for highly constrained variable types like covariance matrices, then the sampler is fine,\n",
      "\n",
      "Chain 3 but if this warning occurs often then your model may be either severely ill-conditioned or misspecified.\n",
      "\n",
      "Chain 3 \n",
      "\n",
      "Chain 3 Informational Message: The current Metropolis proposal is about to be rejected because of the following issue:\n",
      "\n",
      "Chain 3 Exception: normal_lpdf: Location parameter[1] is -nan, but must be finite! (in '/state/partition1/slurm_tmp/24347863.0.0/Rtmp5TQ9fY/model-371fbd34bd1bc9.stan', line 101, column 4 to column 41)\n",
      "\n",
      "Chain 3 If this warning occurs sporadically, such as for highly constrained variable types like covariance matrices, then the sampler is fine,\n",
      "\n",
      "Chain 3 but if this warning occurs often then your model may be either severely ill-conditioned or misspecified.\n",
      "\n",
      "Chain 3 \n",
      "\n",
      "Chain 3 Informational Message: The current Metropolis proposal is about to be rejected because of the following issue:\n",
      "\n",
      "Chain 3 Exception: normal_lpdf: Location parameter[1] is -nan, but must be finite! (in '/state/partition1/slurm_tmp/24347863.0.0/Rtmp5TQ9fY/model-371fbd34bd1bc9.stan', line 101, column 4 to column 41)\n",
      "\n",
      "Chain 3 If this warning occurs sporadically, such as for highly constrained variable types like covariance matrices, then the sampler is fine,\n",
      "\n",
      "Chain 3 but if this warning occurs often then your model may be either severely ill-conditioned or misspecified.\n",
      "\n",
      "Chain 3 \n",
      "\n",
      "Chain 3 Informational Message: The current Metropolis proposal is about to be rejected because of the following issue:\n",
      "\n",
      "Chain 3 Exception: normal_lpdf: Location parameter[1] is -nan, but must be finite! (in '/state/partition1/slurm_tmp/24347863.0.0/Rtmp5TQ9fY/model-371fbd34bd1bc9.stan', line 101, column 4 to column 41)\n",
      "\n",
      "Chain 3 If this warning occurs sporadically, such as for highly constrained variable types like covariance matrices, then the sampler is fine,\n",
      "\n",
      "Chain 3 but if this warning occurs often then your model may be either severely ill-conditioned or misspecified.\n",
      "\n",
      "Chain 3 \n",
      "\n",
      "Chain 3 Informational Message: The current Metropolis proposal is about to be rejected because of the following issue:\n",
      "\n",
      "Chain 3 Exception: normal_lpdf: Location parameter[1] is -nan, but must be finite! (in '/state/partition1/slurm_tmp/24347863.0.0/Rtmp5TQ9fY/model-371fbd34bd1bc9.stan', line 101, column 4 to column 41)\n",
      "\n",
      "Chain 3 If this warning occurs sporadically, such as for highly constrained variable types like covariance matrices, then the sampler is fine,\n",
      "\n",
      "Chain 3 but if this warning occurs often then your model may be either severely ill-conditioned or misspecified.\n",
      "\n",
      "Chain 3 \n",
      "\n",
      "Chain 3 Informational Message: The current Metropolis proposal is about to be rejected because of the following issue:\n",
      "\n",
      "Chain 3 Exception: normal_lpdf: Location parameter[1] is -inf, but must be finite! (in '/state/partition1/slurm_tmp/24347863.0.0/Rtmp5TQ9fY/model-371fbd34bd1bc9.stan', line 101, column 4 to column 41)\n",
      "\n",
      "Chain 3 If this warning occurs sporadically, such as for highly constrained variable types like covariance matrices, then the sampler is fine,\n",
      "\n",
      "Chain 3 but if this warning occurs often then your model may be either severely ill-conditioned or misspecified.\n",
      "\n",
      "Chain 3 \n",
      "\n",
      "Chain 3 Informational Message: The current Metropolis proposal is about to be rejected because of the following issue:\n",
      "\n",
      "Chain 3 Exception: normal_lpdf: Location parameter[1] is -nan, but must be finite! (in '/state/partition1/slurm_tmp/24347863.0.0/Rtmp5TQ9fY/model-371fbd34bd1bc9.stan', line 101, column 4 to column 41)\n",
      "\n",
      "Chain 3 If this warning occurs sporadically, such as for highly constrained variable types like covariance matrices, then the sampler is fine,\n",
      "\n",
      "Chain 3 but if this warning occurs often then your model may be either severely ill-conditioned or misspecified.\n",
      "\n",
      "Chain 3 \n",
      "\n",
      "Chain 3 Informational Message: The current Metropolis proposal is about to be rejected because of the following issue:\n",
      "\n",
      "Chain 3 Exception: normal_lpdf: Location parameter[1] is -nan, but must be finite! (in '/state/partition1/slurm_tmp/24347863.0.0/Rtmp5TQ9fY/model-371fbd34bd1bc9.stan', line 101, column 4 to column 41)\n",
      "\n",
      "Chain 3 If this warning occurs sporadically, such as for highly constrained variable types like covariance matrices, then the sampler is fine,\n",
      "\n",
      "Chain 3 but if this warning occurs often then your model may be either severely ill-conditioned or misspecified.\n",
      "\n",
      "Chain 3 \n",
      "\n",
      "Chain 3 Informational Message: The current Metropolis proposal is about to be rejected because of the following issue:\n",
      "\n",
      "Chain 3 Exception: normal_lpdf: Location parameter[1] is -nan, but must be finite! (in '/state/partition1/slurm_tmp/24347863.0.0/Rtmp5TQ9fY/model-371fbd34bd1bc9.stan', line 101, column 4 to column 41)\n",
      "\n",
      "Chain 3 If this warning occurs sporadically, such as for highly constrained variable types like covariance matrices, then the sampler is fine,\n",
      "\n",
      "Chain 3 but if this warning occurs often then your model may be either severely ill-conditioned or misspecified.\n",
      "\n",
      "Chain 3 \n",
      "\n"
     ]
    },
    {
     "name": "stdout",
     "output_type": "stream",
     "text": [
      "Chain 4 finished in 244.4 seconds.\n",
      "Chain 1 finished in 250.3 seconds.\n",
      "Chain 2 finished in 254.4 seconds.\n",
      "Chain 3 finished in 382.7 seconds.\n",
      "\n",
      "All 4 chains finished successfully.\n",
      "Mean chain execution time: 283.0 seconds.\n",
      "Total execution time: 382.9 seconds.\n",
      "\n"
     ]
    },
    {
     "name": "stderr",
     "output_type": "stream",
     "text": [
      "Warning: 3 of 10000 (0.0%) transitions ended with a divergence.\n",
      "See https://mc-stan.org/misc/warnings for details.\n",
      "\n",
      "\n"
     ]
    }
   ],
   "source": [
    "mod <- cmdstan_model(spath)\n",
    "cmdstanfit <- mod$sample(data = sdata,\n",
    "                         chains = 4,\n",
    "                         parallel_chains = 4,\n",
    "                         iter_warmup  = 1000,\n",
    "                         iter_sampling = 2500,\n",
    "                         refresh = 0,\n",
    "                         adapt_delta = 0.99)"
   ]
  },
  {
   "cell_type": "markdown",
   "id": "57f1ef42-455a-4f96-8884-2baf968ad281",
   "metadata": {},
   "source": [
    "### check that b[1] in cmdstanr fit is the ``same'' as b_B117B117 in brms fit"
   ]
  },
  {
   "cell_type": "code",
   "execution_count": 26,
   "id": "fb995611-dc1d-41a9-b24a-bf9c3e98e4f1",
   "metadata": {},
   "outputs": [
    {
     "data": {
      "text/html": [
       "<table class=\"dataframe\">\n",
       "<caption>A data.table: 1 × 7</caption>\n",
       "<thead>\n",
       "\t<tr><th scope=col>Window</th><th scope=col>Model</th><th scope=col>N B.1.1.7</th><th scope=col>N non-B.1.1.7</th><th scope=col>Load B.1.1.7</th><th scope=col>Load non-B.1.1.7</th><th scope=col>Effect B.1.1.7</th></tr>\n",
       "\t<tr><th scope=col>&lt;dbl&gt;</th><th scope=col>&lt;chr&gt;</th><th scope=col>&lt;int&gt;</th><th scope=col>&lt;int&gt;</th><th scope=col>&lt;chr&gt;</th><th scope=col>&lt;chr&gt;</th><th scope=col>&lt;chr&gt;</th></tr>\n",
       "</thead>\n",
       "<tbody>\n",
       "\t<tr><td>1</td><td>RE, adjusted, (paired)</td><td>1451</td><td>977</td><td>7.2 (7.1, 7.4)</td><td>6.2 (6.0, 6.4)</td><td>1.04 (0.92, 1.15)</td></tr>\n",
       "</tbody>\n",
       "</table>\n"
      ],
      "text/latex": [
       "A data.table: 1 × 7\n",
       "\\begin{tabular}{lllllll}\n",
       " Window & Model & N B.1.1.7 & N non-B.1.1.7 & Load B.1.1.7 & Load non-B.1.1.7 & Effect B.1.1.7\\\\\n",
       " <dbl> & <chr> & <int> & <int> & <chr> & <chr> & <chr>\\\\\n",
       "\\hline\n",
       "\t 1 & RE, adjusted, (paired) & 1451 & 977 & 7.2 (7.1, 7.4) & 6.2 (6.0, 6.4) & 1.04 (0.92, 1.15)\\\\\n",
       "\\end{tabular}\n"
      ],
      "text/markdown": [
       "\n",
       "A data.table: 1 × 7\n",
       "\n",
       "| Window &lt;dbl&gt; | Model &lt;chr&gt; | N B.1.1.7 &lt;int&gt; | N non-B.1.1.7 &lt;int&gt; | Load B.1.1.7 &lt;chr&gt; | Load non-B.1.1.7 &lt;chr&gt; | Effect B.1.1.7 &lt;chr&gt; |\n",
       "|---|---|---|---|---|---|---|\n",
       "| 1 | RE, adjusted, (paired) | 1451 | 977 | 7.2 (7.1, 7.4) | 6.2 (6.0, 6.4) | 1.04 (0.92, 1.15) |\n",
       "\n"
      ],
      "text/plain": [
       "  Window Model                  N B.1.1.7 N non-B.1.1.7 Load B.1.1.7  \n",
       "1 1      RE, adjusted, (paired) 1451      977           7.2 (7.1, 7.4)\n",
       "  Load non-B.1.1.7 Effect B.1.1.7   \n",
       "1 6.2 (6.0, 6.4)   1.04 (0.92, 1.15)"
      ]
     },
     "metadata": {},
     "output_type": "display_data"
    }
   ],
   "source": [
    "get_B117_stats(Bfit,\"RE, adjusted, (paired)\",1,\"Yes\")"
   ]
  },
  {
   "cell_type": "code",
   "execution_count": 57,
   "id": "e5a892bc-c132-46ce-9fd4-98ae1bfc8c6b",
   "metadata": {},
   "outputs": [
    {
     "data": {
      "text/html": [
       "<style>\n",
       ".dl-inline {width: auto; margin:0; padding: 0}\n",
       ".dl-inline>dt, .dl-inline>dd {float: none; width: auto; display: inline-block}\n",
       ".dl-inline>dt::after {content: \":\\0020\"; padding-right: .5ex}\n",
       ".dl-inline>dt:not(:first-of-type) {padding-left: .5ex}\n",
       "</style><dl class=dl-inline><dt>5%</dt><dd>0.9204093</dd><dt>95%</dt><dd>1.1533915</dd></dl>\n"
      ],
      "text/latex": [
       "\\begin{description*}\n",
       "\\item[5\\textbackslash{}\\%] 0.9204093\n",
       "\\item[95\\textbackslash{}\\%] 1.1533915\n",
       "\\end{description*}\n"
      ],
      "text/markdown": [
       "5%\n",
       ":   0.920409395%\n",
       ":   1.1533915\n",
       "\n"
      ],
      "text/plain": [
       "       5%       95% \n",
       "0.9204093 1.1533915 "
      ]
     },
     "metadata": {},
     "output_type": "display_data"
    },
    {
     "data": {
      "text/html": [
       "1.0364100622"
      ],
      "text/latex": [
       "1.0364100622"
      ],
      "text/markdown": [
       "1.0364100622"
      ],
      "text/plain": [
       "[1] 1.03641"
      ]
     },
     "metadata": {},
     "output_type": "display_data"
    }
   ],
   "source": [
    "cmdstanfit$draws(format = \"draws_df\") %>% dplyr::pull(as.name(\"b[1]\")) %>% quantile(probs = c(0.05, 0.95))\n",
    "cmdstanfit$draws(format = \"draws_df\") %>% dplyr::pull(as.name(\"b[1]\")) %>% mean()"
   ]
  },
  {
   "cell_type": "markdown",
   "id": "c2d5d9e2-cd25-4153-87b8-2af7fd6a529f",
   "metadata": {},
   "source": [
    "## plot rhat"
   ]
  },
  {
   "cell_type": "code",
   "execution_count": 34,
   "id": "dec52cd5-0b4d-48b0-b290-8caac9f83ef0",
   "metadata": {},
   "outputs": [
    {
     "data": {
      "image/png": "[encoded data removed]",
      "text/plain": [
       "plot without title"
      ]
     },
     "metadata": {
      "image/png": {
       "height": 420,
       "width": 420
      }
     },
     "output_type": "display_data"
    }
   ],
   "source": [
    "B117_model_stats = get_B117_stats(Bfit,\"RE, adjusted, (paired)\",1,\"Yes\")\n",
    "data.table(rhat = rhat(Bfit)) %>% \n",
    "  ggplot(aes(x = rhat)) + \n",
    "  geom_histogram(bins = 100) + \n",
    "  geom_vline(xintercept = 1.1, color = \"red\")+ \n",
    "  geom_vline(xintercept = 1.01, color = \"red\", lty = 3)\n",
    "\n",
    "B117fit = Bfit\n",
    "saveRDS(B117fit, file.path(dirname, \"B117fit.RData\"))"
   ]
  },
  {
   "cell_type": "code",
   "execution_count": 35,
   "id": "ce3b33b8-47a6-47f9-8228-cf1a80dd54d7",
   "metadata": {},
   "outputs": [
    {
     "data": {
      "text/html": [
       "'brmsfit'"
      ],
      "text/latex": [
       "'brmsfit'"
      ],
      "text/markdown": [
       "'brmsfit'"
      ],
      "text/plain": [
       "[1] \"brmsfit\""
      ]
     },
     "metadata": {},
     "output_type": "display_data"
    }
   ],
   "source": [
    "class(Bfit)"
   ]
  },
  {
   "cell_type": "code",
   "execution_count": 36,
   "id": "a6499526-4646-4045-9a92-e3de183e21e6",
   "metadata": {},
   "outputs": [
    {
     "data": {
      "text/plain": [
       " [1] add_criterion           add_ic                  as_draws_array         \n",
       " [4] as_draws_df             as_draws_list           as_draws_matrix        \n",
       " [7] as_draws_rvars          as_draws                as.array               \n",
       "[10] as.data.frame           as.matrix               as.mcmc                \n",
       "[13] autocor                 bayes_factor            bayes_R2               \n",
       "[16] bridge_sampler          coef                    conditional_effects    \n",
       "[19] conditional_smooths     control_params          expose_functions       \n",
       "[22] family                  fitted                  fixef                  \n",
       "[25] formula                 getCall                 hypothesis             \n",
       "[28] kfold                   launch_shinystan        log_lik                \n",
       "[31] log_posterior           logLik                  loo_compare            \n",
       "[34] loo_linpred             loo_model_weights       loo_moment_match       \n",
       "[37] loo_predict             loo_predictive_interval loo_R2                 \n",
       "[40] loo_subsample           loo                     LOO                    \n",
       "[43] marginal_effects        marginal_smooths        mcmc_plot              \n",
       "[46] model_weights           model.frame             nchains                \n",
       "[49] ndraws                  neff_ratio              ngrps                  \n",
       "[52] niterations             nobs                    nsamples               \n",
       "[55] nuts_params             nvariables              pairs                  \n",
       "[58] parnames                plot                    post_prob              \n",
       "[61] posterior_average       posterior_epred         posterior_interval     \n",
       "[64] posterior_linpred       posterior_predict       posterior_samples      \n",
       "[67] posterior_smooths       posterior_summary       pp_average             \n",
       "[70] pp_check                pp_mixture              predict                \n",
       "[73] predictive_error        predictive_interval     prepare_predictions    \n",
       "[76] print                   prior_draws             prior_summary          \n",
       "[79] ranef                   reloo                   residuals              \n",
       "[82] rhat                    stancode                standata               \n",
       "[85] stanplot                summary                 update                 \n",
       "[88] VarCorr                 variables               vcov                   \n",
       "[91] waic                    WAIC                   \n",
       "see '?methods' for accessing help and source code"
      ]
     },
     "metadata": {},
     "output_type": "display_data"
    }
   ],
   "source": [
    "methods(class=\"brmsfit\")"
   ]
  },
  {
   "cell_type": "code",
   "execution_count": 37,
   "id": "e790f2fe-86d8-4364-a350-1fcb079c853f",
   "metadata": {},
   "outputs": [
    {
     "name": "stdout",
     "output_type": "stream",
     "text": [
      "// generated with brms 2.20.4\n",
      "functions {\n",
      "  \n",
      "}\n",
      "data {\n",
      "  int<lower=1> N; // total number of observations\n",
      "  vector[N] Y; // response variable\n",
      "  int<lower=1> K; // number of population-level effects\n",
      "  matrix[N, K] X; // population-level design matrix\n",
      "  int<lower=1> Kc; // number of population-level effects after centering\n",
      "  // data for splines\n",
      "  int Ks; // number of linear effects\n",
      "  matrix[N, Ks] Xs; // design matrix for the linear effects\n",
      "  // data for spline 1\n",
      "  int nb_1; // number of bases\n",
      "  array[nb_1] int knots_1; // number of knots\n",
      "  // basis function matrices\n",
      "  matrix[N, knots_1[1]] Zs_1_1;\n",
      "  int<lower=1> K_sigma; // number of population-level effects\n",
      "  matrix[N, K_sigma] X_sigma; // population-level design matrix\n",
      "  int<lower=1> Kc_sigma; // number of population-level effects after centering\n",
      "  // data for group-level effects of ID 1\n",
      "  int<lower=1> N_1; // number of grouping levels\n",
      "  int<lower=1> M_1; // number of coefficients per level\n",
      "  array[N] int<lower=1> J_1; // grouping indicator per observation\n",
      "  // group-level predictor values\n",
      "  vector[N] Z_1_1;\n",
      "  // data for group-level effects of ID 2\n",
      "  int<lower=1> N_2; // number of grouping levels\n",
      "  int<lower=1> M_2; // number of coefficients per level\n",
      "  array[N] int<lower=1> J_2; // grouping indicator per observation\n",
      "  // group-level predictor values\n",
      "  vector[N] Z_2_sigma_1;\n",
      "  int prior_only; // should the likelihood be ignored?\n",
      "}\n",
      "transformed data {\n",
      "  matrix[N, Kc] Xc; // centered version of X without an intercept\n",
      "  vector[Kc] means_X; // column means of X before centering\n",
      "  matrix[N, Kc_sigma] Xc_sigma; // centered version of X_sigma without an intercept\n",
      "  vector[Kc_sigma] means_X_sigma; // column means of X_sigma before centering\n",
      "  for (i in 2 : K) {\n",
      "    means_X[i - 1] = mean(X[ : , i]);\n",
      "    Xc[ : , i - 1] = X[ : , i] - means_X[i - 1];\n",
      "  }\n",
      "  for (i in 2 : K_sigma) {\n",
      "    means_X_sigma[i - 1] = mean(X_sigma[ : , i]);\n",
      "    Xc_sigma[ : , i - 1] = X_sigma[ : , i] - means_X_sigma[i - 1];\n",
      "  }\n",
      "}\n",
      "parameters {\n",
      "  vector[Kc] b; // regression coefficients\n",
      "  real Intercept; // temporary intercept for centered predictors\n",
      "  vector[Ks] bs; // unpenalized spline coefficients\n",
      "  // parameters for spline 1\n",
      "  // standardized penalized spline coefficients\n",
      "  vector[knots_1[1]] zs_1_1;\n",
      "  vector<lower=0>[nb_1] sds_1; // SDs of penalized spline coefficients\n",
      "  vector[Kc_sigma] b_sigma; // regression coefficients\n",
      "  real Intercept_sigma; // temporary intercept for centered predictors\n",
      "  vector<lower=0>[M_1] sd_1; // group-level standard deviations\n",
      "  array[M_1] vector[N_1] z_1; // standardized group-level effects\n",
      "  vector<lower=0>[M_2] sd_2; // group-level standard deviations\n",
      "  array[M_2] vector[N_2] z_2; // standardized group-level effects\n",
      "}\n",
      "transformed parameters {\n",
      "  // penalized spline coefficients\n",
      "  vector[knots_1[1]] s_1_1;\n",
      "  vector[N_1] r_1_1; // actual group-level effects\n",
      "  vector[N_2] r_2_sigma_1; // actual group-level effects\n",
      "  real lprior = 0; // prior contributions to the log posterior\n",
      "  // compute penalized spline coefficients\n",
      "  s_1_1 = sds_1[1] * zs_1_1;\n",
      "  r_1_1 = sd_1[1] * z_1[1];\n",
      "  r_2_sigma_1 = sd_2[1] * z_2[1];\n",
      "  lprior += student_t_lpdf(Intercept | 3, 7.2, 2.5);\n",
      "  lprior += student_t_lpdf(sds_1 | 3, 0, 2.5)\n",
      "            - 1 * student_t_lccdf(0 | 3, 0, 2.5);\n",
      "  lprior += student_t_lpdf(Intercept_sigma | 3, 0, 2.5);\n",
      "  lprior += student_t_lpdf(sd_1 | 3, 0, 2.5)\n",
      "            - 1 * student_t_lccdf(0 | 3, 0, 2.5);\n",
      "  lprior += student_t_lpdf(sd_2 | 3, 0, 2.5)\n",
      "            - 1 * student_t_lccdf(0 | 3, 0, 2.5);\n",
      "}\n",
      "model {\n",
      "  // likelihood including constants\n",
      "  if (!prior_only) {\n",
      "    // initialize linear predictor term\n",
      "    vector[N] mu = rep_vector(0.0, N);\n",
      "    // initialize linear predictor term\n",
      "    vector[N] sigma = rep_vector(0.0, N);\n",
      "    mu += Intercept + Xc * b + Xs * bs + Zs_1_1 * s_1_1;\n",
      "    sigma += Intercept_sigma + Xc_sigma * b_sigma;\n",
      "    for (n in 1 : N) {\n",
      "      // add more terms to the linear predictor\n",
      "      mu[n] += r_1_1[J_1[n]] * Z_1_1[n];\n",
      "    }\n",
      "    for (n in 1 : N) {\n",
      "      // add more terms to the linear predictor\n",
      "      sigma[n] += r_2_sigma_1[J_2[n]] * Z_2_sigma_1[n];\n",
      "    }\n",
      "    sigma = exp(sigma);\n",
      "    target += normal_lpdf(Y | mu, sigma);\n",
      "  }\n",
      "  // priors including constants\n",
      "  target += lprior;\n",
      "  target += std_normal_lpdf(zs_1_1);\n",
      "  target += std_normal_lpdf(z_1[1]);\n",
      "  target += std_normal_lpdf(z_2[1]);\n",
      "}\n",
      "generated quantities {\n",
      "  // actual population-level intercept\n",
      "  real b_Intercept = Intercept - dot_product(means_X, b);\n",
      "  // actual population-level intercept\n",
      "  real b_sigma_Intercept = Intercept_sigma\n",
      "                           - dot_product(means_X_sigma, b_sigma);\n",
      "}\n",
      "\n"
     ]
    }
   ],
   "source": [
    "cat(stancode(Bfit))"
   ]
  },
  {
   "cell_type": "markdown",
   "id": "a9902ff3-e62a-4a77-8859-c6488dd76f9e",
   "metadata": {},
   "source": [
    "# Results 3.2 from ExtendedMethods.html "
   ]
  },
  {
   "cell_type": "markdown",
   "id": "10380e78-6130-4903-a407-9293da695ca6",
   "metadata": {},
   "source": [
    "## Read fit from disk"
   ]
  },
  {
   "cell_type": "code",
   "execution_count": 38,
   "id": "edb2d386-2704-4ac2-9428-dc5cd5ae9702",
   "metadata": {},
   "outputs": [],
   "source": [
    "B117fit <- readRDS(file.path(dirname, \"B117fit.RData\"))"
   ]
  },
  {
   "cell_type": "code",
   "execution_count": 39,
   "id": "3e8ce880-3564-4a61-b8fc-0300e20649ad",
   "metadata": {},
   "outputs": [
    {
     "data": {
      "text/plain": [
       "# A draws_array: 6 iterations, 4 chains, and 265 variables\n",
       ", , variable = b_Intercept\n",
       "\n",
       "         chain\n",
       "iteration   1   2   3   4\n",
       "        1 6.1 6.0 6.1 6.3\n",
       "        2 6.1 6.1 6.2 6.2\n",
       "        3 6.2 6.0 5.9 6.2\n",
       "        4 6.2 6.0 6.1 6.0\n",
       "        5 6.2 6.3 6.3 5.9\n",
       "\n",
       ", , variable = b_sigma_Intercept\n",
       "\n",
       "         chain\n",
       "iteration    1    2    3    4\n",
       "        1 0.62 0.55 0.51 0.54\n",
       "        2 0.58 0.53 0.55 0.53\n",
       "        3 0.60 0.63 0.62 0.53\n",
       "        4 0.58 0.53 0.52 0.59\n",
       "        5 0.57 0.54 0.50 0.57\n",
       "\n",
       ", , variable = b_B117B117\n",
       "\n",
       "         chain\n",
       "iteration    1    2    3    4\n",
       "        1 1.11 0.94 1.03 1.06\n",
       "        2 1.08 1.04 1.08 1.01\n",
       "        3 0.96 1.04 1.04 0.96\n",
       "        4 0.97 1.11 1.01 1.11\n",
       "        5 1.13 0.96 0.96 1.09\n",
       "\n",
       ", , variable = b_GroupPAMS\n",
       "\n",
       "         chain\n",
       "iteration    1    2     3      4\n",
       "        1 0.59 0.66 0.257 -0.183\n",
       "        2 0.59 0.55 0.114  0.064\n",
       "        3 0.41 0.31 0.465  0.433\n",
       "        4 0.47 0.34 0.443  0.167\n",
       "        5 0.22 0.43 0.085  0.581\n",
       "\n",
       "# ... with 1 more iterations, and 261 more variables"
      ]
     },
     "metadata": {},
     "output_type": "display_data"
    }
   ],
   "source": [
    "B117fit$fit %>% \n",
    "  as_draws() %>% \n",
    "  head()"
   ]
  },
  {
   "cell_type": "markdown",
   "id": "e13c2dc6-bbc3-4d48-86bc-4c365aa05e1a",
   "metadata": {},
   "source": [
    "## Create data frames"
   ]
  },
  {
   "cell_type": "code",
   "execution_count": 40,
   "id": "027fa17d-d815-4894-aaf0-a1ed2c457f70",
   "metadata": {},
   "outputs": [],
   "source": [
    "B117.draws = \n",
    "  as_draws(B117fit$fit) %>% \n",
    "  subset_draws(c(\"b_Intercept\",\"b_B117B117\")) %>% \n",
    "  as_draws_dt() %>% \n",
    "  setkeyv(\".draw\") %>% \n",
    "  .[, `:=` (\n",
    "    load.nonB117 = b_Intercept,\n",
    "    load.B117 = b_Intercept + b_B117B117)] %>% \n",
    "  .[, .(.draw, load.nonB117, load.B117)] %>% \n",
    "  .[, `:=`(load.deltaB117 = load.B117 - load.nonB117)] %>% \n",
    "  melt(id.vars = \".draw\") %>% \n",
    "  .[, B117 := ifelse(grepl(\"RR\",variable),\"RRB117\",\n",
    "                     ifelse(grepl(\"delta\",variable),\"deltaB117\",\n",
    "                            ifelse(grepl(\"nonB117\",variable),\"nonB117\",\"B117\")))] %>% \n",
    "  .[, Outcome := \"log10Load\"]"
   ]
  },
  {
   "cell_type": "code",
   "execution_count": 41,
   "id": "f0aa25c4-e3f6-4822-8cfb-bbf06b0d5b91",
   "metadata": {},
   "outputs": [
    {
     "data": {
      "text/html": [
       "<table class=\"dataframe\">\n",
       "<caption>A data.table: 6 × 5</caption>\n",
       "<thead>\n",
       "\t<tr><th scope=col>.draw</th><th scope=col>variable</th><th scope=col>value</th><th scope=col>B117</th><th scope=col>Outcome</th></tr>\n",
       "\t<tr><th scope=col>&lt;int&gt;</th><th scope=col>&lt;fct&gt;</th><th scope=col>&lt;dbl&gt;</th><th scope=col>&lt;chr&gt;</th><th scope=col>&lt;chr&gt;</th></tr>\n",
       "</thead>\n",
       "<tbody>\n",
       "\t<tr><td>1</td><td>load.nonB117</td><td>6.05183</td><td>nonB117</td><td>log10Load</td></tr>\n",
       "\t<tr><td>2</td><td>load.nonB117</td><td>6.06887</td><td>nonB117</td><td>log10Load</td></tr>\n",
       "\t<tr><td>3</td><td>load.nonB117</td><td>6.19392</td><td>nonB117</td><td>log10Load</td></tr>\n",
       "\t<tr><td>4</td><td>load.nonB117</td><td>6.18991</td><td>nonB117</td><td>log10Load</td></tr>\n",
       "\t<tr><td>5</td><td>load.nonB117</td><td>6.18701</td><td>nonB117</td><td>log10Load</td></tr>\n",
       "\t<tr><td>6</td><td>load.nonB117</td><td>6.09610</td><td>nonB117</td><td>log10Load</td></tr>\n",
       "</tbody>\n",
       "</table>\n"
      ],
      "text/latex": [
       "A data.table: 6 × 5\n",
       "\\begin{tabular}{lllll}\n",
       " .draw & variable & value & B117 & Outcome\\\\\n",
       " <int> & <fct> & <dbl> & <chr> & <chr>\\\\\n",
       "\\hline\n",
       "\t 1 & load.nonB117 & 6.05183 & nonB117 & log10Load\\\\\n",
       "\t 2 & load.nonB117 & 6.06887 & nonB117 & log10Load\\\\\n",
       "\t 3 & load.nonB117 & 6.19392 & nonB117 & log10Load\\\\\n",
       "\t 4 & load.nonB117 & 6.18991 & nonB117 & log10Load\\\\\n",
       "\t 5 & load.nonB117 & 6.18701 & nonB117 & log10Load\\\\\n",
       "\t 6 & load.nonB117 & 6.09610 & nonB117 & log10Load\\\\\n",
       "\\end{tabular}\n"
      ],
      "text/markdown": [
       "\n",
       "A data.table: 6 × 5\n",
       "\n",
       "| .draw &lt;int&gt; | variable &lt;fct&gt; | value &lt;dbl&gt; | B117 &lt;chr&gt; | Outcome &lt;chr&gt; |\n",
       "|---|---|---|---|---|\n",
       "| 1 | load.nonB117 | 6.05183 | nonB117 | log10Load |\n",
       "| 2 | load.nonB117 | 6.06887 | nonB117 | log10Load |\n",
       "| 3 | load.nonB117 | 6.19392 | nonB117 | log10Load |\n",
       "| 4 | load.nonB117 | 6.18991 | nonB117 | log10Load |\n",
       "| 5 | load.nonB117 | 6.18701 | nonB117 | log10Load |\n",
       "| 6 | load.nonB117 | 6.09610 | nonB117 | log10Load |\n",
       "\n"
      ],
      "text/plain": [
       "  .draw variable     value   B117    Outcome  \n",
       "1 1     load.nonB117 6.05183 nonB117 log10Load\n",
       "2 2     load.nonB117 6.06887 nonB117 log10Load\n",
       "3 3     load.nonB117 6.19392 nonB117 log10Load\n",
       "4 4     load.nonB117 6.18991 nonB117 log10Load\n",
       "5 5     load.nonB117 6.18701 nonB117 log10Load\n",
       "6 6     load.nonB117 6.09610 nonB117 log10Load"
      ]
     },
     "metadata": {},
     "output_type": "display_data"
    }
   ],
   "source": [
    "B117.draws %>% head()"
   ]
  },
  {
   "cell_type": "markdown",
   "id": "6019990c-7a90-4688-98e9-e57bb1c64652",
   "metadata": {},
   "source": [
    "## Plot"
   ]
  },
  {
   "cell_type": "code",
   "execution_count": 42,
   "id": "1099ad25-d9d1-4603-9a8f-dfa7c8def36e",
   "metadata": {},
   "outputs": [
    {
     "name": "stderr",
     "output_type": "stream",
     "text": [
      "Warning message:\n",
      "“\u001b[1m\u001b[22mUsing `size` aesthetic for lines was deprecated in ggplot2 3.4.0.\n",
      "\u001b[36mℹ\u001b[39m Please use `linewidth` instead.”\n",
      "Warning message:\n",
      "“\u001b[1m\u001b[22mThe `size` argument of `element_line()` is deprecated as of ggplot2 3.4.0.\n",
      "\u001b[36mℹ\u001b[39m Please use the `linewidth` argument instead.”\n"
     ]
    },
    {
     "data": {
      "image/png": "[encoded data removed]",
      "text/plain": [
       "plot without title"
      ]
     },
     "metadata": {
      "image/png": {
       "height": 420,
       "width": 420
      }
     },
     "output_type": "display_data"
    }
   ],
   "source": [
    "no_y_axis = theme(axis.title.y = element_blank(), axis.line.y = element_blank(), axis.text.y = element_blank())\n",
    "\n",
    "p1 = \n",
    "  B117.draws[Outcome == \"log10Load\" & !(grepl(\"delta|RR\",B117))] %>% \n",
    "  ggplot(aes(x = value, fill = B117)) +\n",
    "  stat_histinterval(.width = c(.50, .80, .90), breaks = 25, alpha = .75, color = NA) + \n",
    "  scale_fill_manual(values = c(\"#00A087FF\",\"#7E6148FF\"),\n",
    "                    name = \"\", labels = c(\"B.1.1.7\",\"non-B.1.1.7\")) +\n",
    "  scale_color_manual(values = c(\"#00A087FF\",\"#7E6148FF\"),\n",
    "                    name = \"\", labels = c(\"B.1.1.7\",\"non-B.1.1.7\")) +\n",
    "  theme(axis.line.y = element_blank(), axis.text.y = element_blank()) +\n",
    "  xlab(expression(log[10]~viral~load)) + \n",
    "  theme(legend.position = c(.2,.975)) + \n",
    "  ylab(\"Posterior density\")\n",
    "\n",
    "hdi.data = rbind(\n",
    "  B117.draws[variable == \"load.B117\",value] %>% \n",
    "  fast.hdi(posterior.dist = \"norm\") %>% \n",
    "  .[,.(lower90,upper90)] %>% \n",
    "  .[, hdi.group := 1] %>% \n",
    "  melt(id.vars = \"hdi.group\") %>% \n",
    "  .[, B117 := \"B117\"] %>% \n",
    "  .[, y := 0],\n",
    "  B117.draws[variable == \"load.nonB117\",value] %>% \n",
    "  fast.hdi(posterior.dist = \"norm\") %>% \n",
    "  .[,.(lower90,upper90)] %>% \n",
    "  .[, hdi.group := 1] %>% \n",
    "  melt(id.vars = \"hdi.group\") %>% \n",
    "  .[, B117 := \"nonB117\"] %>% \n",
    "  .[, y := 0])\n",
    "\n",
    "p1 = \n",
    "  p1 +\n",
    "  geom_line(data = hdi.data,\n",
    "            aes(y = y, x = value, group = interaction(hdi.group,B117), color = B117),\n",
    "            size = 1) + \n",
    "  gg_add_grid(\"x\")\n",
    "\n",
    "p2 = \n",
    "  B117.draws[Outcome == \"log10Load\" & (grepl(\"delta\",B117))] %>% \n",
    "  ggplot(aes(x = value)) +\n",
    "  stat_histinterval(.width = c(.50, .80, .90), breaks = 25, alpha = .5) + \n",
    "  theme(axis.line.y = element_blank(), axis.text.y = element_blank()) +\n",
    "  xlab(expression(log[10]~load~B.1.1.7-`non-B.1.1.7`)) +\n",
    "  coord_cartesian(xlim= c(0.5,1.5)) +\n",
    "  ylab(\"\") + \n",
    "  gg_add_grid(\"x\")\n",
    "\n",
    "pB117load = (p1 + ggtitle(\"A\")| p2 + ggtitle(\"B\")) + plot_layout(widths = c(1,1))\n",
    "\n",
    "\n",
    "pB117load"
   ]
  }
 ],
 "metadata": {
  "kernelspec": {
   "display_name": "R [conda env:.conda-myR]",
   "language": "R",
   "name": "conda-env-.conda-myR-r"
  },
  "language_info": {
   "codemirror_mode": "r",
   "file_extension": ".r",
   "mimetype": "text/x-r-source",
   "name": "R",
   "pygments_lexer": "r",
   "version": "4.2.1"
  }
 },
 "nbformat": 4,
 "nbformat_minor": 5
}
