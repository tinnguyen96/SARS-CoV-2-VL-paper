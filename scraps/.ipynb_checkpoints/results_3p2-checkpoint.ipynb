{
 "cells": [
  {
   "cell_type": "code",
   "execution_count": 1,
   "id": "025113c2-c267-470a-8cb7-38393ffa9c55",
   "metadata": {},
   "outputs": [
    {
     "name": "stderr",
     "output_type": "stream",
     "text": [
      "here() starts at /home/gridsan/tdn/replicate-papers/covid-infections/SARS-CoV-2-VL-paper\n",
      "\n",
      "This is cmdstanr version 0.6.1\n",
      "\n",
      "- CmdStanR documentation and vignettes: mc-stan.org/cmdstanr\n",
      "\n",
      "- CmdStan path: /home/gridsan/tdn/.cmdstan/cmdstan-2.33.1\n",
      "\n",
      "- CmdStan version: 2.33.1\n",
      "\n",
      "This is posterior version 1.5.0\n",
      "\n",
      "\n",
      "Attaching package: ‘posterior’\n",
      "\n",
      "\n",
      "The following objects are masked from ‘package:stats’:\n",
      "\n",
      "    mad, sd, var\n",
      "\n",
      "\n",
      "The following objects are masked from ‘package:base’:\n",
      "\n",
      "    %in%, match\n",
      "\n",
      "\n",
      "This is bayesplot version 1.10.0\n",
      "\n",
      "- Online documentation and vignettes at mc-stan.org/bayesplot\n",
      "\n",
      "- bayesplot theme set to bayesplot::theme_default()\n",
      "\n",
      "   * Does _not_ affect other ggplot2 plots\n",
      "\n",
      "   * See ?bayesplot_theme_set for details on theme setting\n",
      "\n",
      "\n",
      "Attaching package: ‘bayesplot’\n",
      "\n",
      "\n",
      "The following object is masked from ‘package:posterior’:\n",
      "\n",
      "    rhat\n",
      "\n",
      "\n",
      "\n",
      "Attaching package: ‘EnvStats’\n",
      "\n",
      "\n",
      "The following objects are masked from ‘package:stats’:\n",
      "\n",
      "    predict, predict.lm\n",
      "\n",
      "\n",
      "Loading required package: R.oo\n",
      "\n",
      "Loading required package: R.methodsS3\n",
      "\n",
      "R.methodsS3 v1.8.2 (2022-06-13 22:00:14 UTC) successfully loaded. See ?R.methodsS3 for help.\n",
      "\n",
      "R.oo v1.25.0 (2022-06-12 02:20:02 UTC) successfully loaded. See ?R.oo for help.\n",
      "\n",
      "\n",
      "Attaching package: ‘R.oo’\n",
      "\n",
      "\n",
      "The following object is masked from ‘package:R.methodsS3’:\n",
      "\n",
      "    throw\n",
      "\n",
      "\n",
      "The following object is masked from ‘package:magrittr’:\n",
      "\n",
      "    equals\n",
      "\n",
      "\n",
      "The following objects are masked from ‘package:methods’:\n",
      "\n",
      "    getClasses, getMethods\n",
      "\n",
      "\n",
      "The following objects are masked from ‘package:base’:\n",
      "\n",
      "    attach, detach, load, save\n",
      "\n",
      "\n",
      "R.utils v2.12.3 (2023-11-18 01:00:02 UTC) successfully loaded. See ?R.utils for help.\n",
      "\n",
      "\n",
      "Attaching package: ‘R.utils’\n",
      "\n",
      "\n",
      "The following object is masked from ‘package:magrittr’:\n",
      "\n",
      "    extract\n",
      "\n",
      "\n",
      "The following object is masked from ‘package:utils’:\n",
      "\n",
      "    timestamp\n",
      "\n",
      "\n",
      "The following objects are masked from ‘package:base’:\n",
      "\n",
      "    cat, commandArgs, getOption, isOpen, nullfile, parse, warnings\n",
      "\n",
      "\n"
     ]
    }
   ],
   "source": [
    "source(\"./utils.R\")"
   ]
  },
  {
   "cell_type": "code",
   "execution_count": 2,
   "id": "805cd981-805a-4c92-b5d8-9052d3572a87",
   "metadata": {},
   "outputs": [
    {
     "name": "stderr",
     "output_type": "stream",
     "text": [
      "\n",
      "Attaching package: ‘ggdist’\n",
      "\n",
      "\n",
      "The following object is masked from ‘package:R.oo’:\n",
      "\n",
      "    ll\n",
      "\n",
      "\n"
     ]
    }
   ],
   "source": [
    "library(ggdist)\n",
    "library(patchwork)"
   ]
  },
  {
   "cell_type": "markdown",
   "id": "10380e78-6130-4903-a407-9293da695ca6",
   "metadata": {},
   "source": [
    "# Read fit from disk"
   ]
  },
  {
   "cell_type": "code",
   "execution_count": 3,
   "id": "edb2d386-2704-4ac2-9428-dc5cd5ae9702",
   "metadata": {},
   "outputs": [],
   "source": [
    "B117fit <- readRDS(\"B117fits/B117fit.RData\")"
   ]
  },
  {
   "cell_type": "code",
   "execution_count": 4,
   "id": "3e8ce880-3564-4a61-b8fc-0300e20649ad",
   "metadata": {},
   "outputs": [
    {
     "data": {
      "text/plain": [
       "# A draws_array: 6 iterations, 4 chains, and 265 variables\n",
       ", , variable = b_Intercept\n",
       "\n",
       "         chain\n",
       "iteration   1   2   3   4\n",
       "        1 6.1 6.0 6.3 6.3\n",
       "        2 6.1 6.4 5.9 6.2\n",
       "        3 6.2 6.3 6.3 6.2\n",
       "        4 6.1 6.1 6.3 6.1\n",
       "        5 6.0 6.3 5.8 6.2\n",
       "\n",
       ", , variable = b_sigma_Intercept\n",
       "\n",
       "         chain\n",
       "iteration    1    2    3    4\n",
       "        1 0.54 0.53 0.54 0.61\n",
       "        2 0.55 0.59 0.56 0.58\n",
       "        3 0.53 0.53 0.53 0.54\n",
       "        4 0.57 0.56 0.55 0.60\n",
       "        5 0.49 0.56 0.57 0.54\n",
       "\n",
       ", , variable = b_B117B117\n",
       "\n",
       "         chain\n",
       "iteration    1    2    3    4\n",
       "        1 1.03 1.12 1.05 1.14\n",
       "        2 1.08 0.95 1.04 1.13\n",
       "        3 0.99 1.13 0.94 0.93\n",
       "        4 1.07 1.10 0.90 1.18\n",
       "        5 1.04 1.13 1.11 0.96\n",
       "\n",
       ", , variable = b_GroupPAMS\n",
       "\n",
       "         chain\n",
       "iteration     1    2    3    4\n",
       "        1 0.188 0.14 0.37 0.22\n",
       "        2 0.037 0.20 0.37 0.26\n",
       "        3 0.259 0.29 0.24 0.40\n",
       "        4 0.337 0.34 0.25 0.32\n",
       "        5 0.334 0.21 0.39 0.58\n",
       "\n",
       "# ... with 1 more iterations, and 261 more variables"
      ]
     },
     "metadata": {},
     "output_type": "display_data"
    }
   ],
   "source": [
    "B117fit$fit %>% \n",
    "  as_draws() %>% \n",
    "  head()"
   ]
  },
  {
   "cell_type": "markdown",
   "id": "e13c2dc6-bbc3-4d48-86bc-4c365aa05e1a",
   "metadata": {},
   "source": [
    "# Create data frames"
   ]
  },
  {
   "cell_type": "code",
   "execution_count": 5,
   "id": "027fa17d-d815-4894-aaf0-a1ed2c457f70",
   "metadata": {},
   "outputs": [],
   "source": [
    "B117.draws = \n",
    "  as_draws(B117fit$fit) %>% \n",
    "  subset_draws(c(\"b_Intercept\",\"b_B117B117\")) %>% \n",
    "  as_draws_dt() %>% \n",
    "  setkeyv(\".draw\") %>% \n",
    "  .[, `:=` (\n",
    "    load.nonB117 = b_Intercept,\n",
    "    load.B117 = b_Intercept + b_B117B117)] %>% \n",
    "  .[, .(.draw, load.nonB117, load.B117)] %>% \n",
    "  .[, `:=`(load.deltaB117 = load.B117 - load.nonB117)] %>% \n",
    "  melt(id.vars = \".draw\") %>% \n",
    "  .[, B117 := ifelse(grepl(\"RR\",variable),\"RRB117\",\n",
    "                     ifelse(grepl(\"delta\",variable),\"deltaB117\",\n",
    "                            ifelse(grepl(\"nonB117\",variable),\"nonB117\",\"B117\")))] %>% \n",
    "  .[, Outcome := \"log10Load\"]"
   ]
  },
  {
   "cell_type": "code",
   "execution_count": 6,
   "id": "f0aa25c4-e3f6-4822-8cfb-bbf06b0d5b91",
   "metadata": {},
   "outputs": [
    {
     "data": {
      "text/html": [
       "<table class=\"dataframe\">\n",
       "<caption>A data.table: 6 × 5</caption>\n",
       "<thead>\n",
       "\t<tr><th scope=col>.draw</th><th scope=col>variable</th><th scope=col>value</th><th scope=col>B117</th><th scope=col>Outcome</th></tr>\n",
       "\t<tr><th scope=col>&lt;int&gt;</th><th scope=col>&lt;fct&gt;</th><th scope=col>&lt;dbl&gt;</th><th scope=col>&lt;chr&gt;</th><th scope=col>&lt;chr&gt;</th></tr>\n",
       "</thead>\n",
       "<tbody>\n",
       "\t<tr><td>1</td><td>load.nonB117</td><td>6.08805</td><td>nonB117</td><td>log10Load</td></tr>\n",
       "\t<tr><td>2</td><td>load.nonB117</td><td>6.14040</td><td>nonB117</td><td>log10Load</td></tr>\n",
       "\t<tr><td>3</td><td>load.nonB117</td><td>6.21170</td><td>nonB117</td><td>log10Load</td></tr>\n",
       "\t<tr><td>4</td><td>load.nonB117</td><td>6.11054</td><td>nonB117</td><td>log10Load</td></tr>\n",
       "\t<tr><td>5</td><td>load.nonB117</td><td>5.97482</td><td>nonB117</td><td>log10Load</td></tr>\n",
       "\t<tr><td>6</td><td>load.nonB117</td><td>6.14872</td><td>nonB117</td><td>log10Load</td></tr>\n",
       "</tbody>\n",
       "</table>\n"
      ],
      "text/latex": [
       "A data.table: 6 × 5\n",
       "\\begin{tabular}{lllll}\n",
       " .draw & variable & value & B117 & Outcome\\\\\n",
       " <int> & <fct> & <dbl> & <chr> & <chr>\\\\\n",
       "\\hline\n",
       "\t 1 & load.nonB117 & 6.08805 & nonB117 & log10Load\\\\\n",
       "\t 2 & load.nonB117 & 6.14040 & nonB117 & log10Load\\\\\n",
       "\t 3 & load.nonB117 & 6.21170 & nonB117 & log10Load\\\\\n",
       "\t 4 & load.nonB117 & 6.11054 & nonB117 & log10Load\\\\\n",
       "\t 5 & load.nonB117 & 5.97482 & nonB117 & log10Load\\\\\n",
       "\t 6 & load.nonB117 & 6.14872 & nonB117 & log10Load\\\\\n",
       "\\end{tabular}\n"
      ],
      "text/markdown": [
       "\n",
       "A data.table: 6 × 5\n",
       "\n",
       "| .draw &lt;int&gt; | variable &lt;fct&gt; | value &lt;dbl&gt; | B117 &lt;chr&gt; | Outcome &lt;chr&gt; |\n",
       "|---|---|---|---|---|\n",
       "| 1 | load.nonB117 | 6.08805 | nonB117 | log10Load |\n",
       "| 2 | load.nonB117 | 6.14040 | nonB117 | log10Load |\n",
       "| 3 | load.nonB117 | 6.21170 | nonB117 | log10Load |\n",
       "| 4 | load.nonB117 | 6.11054 | nonB117 | log10Load |\n",
       "| 5 | load.nonB117 | 5.97482 | nonB117 | log10Load |\n",
       "| 6 | load.nonB117 | 6.14872 | nonB117 | log10Load |\n",
       "\n"
      ],
      "text/plain": [
       "  .draw variable     value   B117    Outcome  \n",
       "1 1     load.nonB117 6.08805 nonB117 log10Load\n",
       "2 2     load.nonB117 6.14040 nonB117 log10Load\n",
       "3 3     load.nonB117 6.21170 nonB117 log10Load\n",
       "4 4     load.nonB117 6.11054 nonB117 log10Load\n",
       "5 5     load.nonB117 5.97482 nonB117 log10Load\n",
       "6 6     load.nonB117 6.14872 nonB117 log10Load"
      ]
     },
     "metadata": {},
     "output_type": "display_data"
    }
   ],
   "source": [
    "B117.draws %>% head()"
   ]
  },
  {
   "cell_type": "markdown",
   "id": "6019990c-7a90-4688-98e9-e57bb1c64652",
   "metadata": {},
   "source": [
    "# Plot"
   ]
  },
  {
   "cell_type": "code",
   "execution_count": 7,
   "id": "1099ad25-d9d1-4603-9a8f-dfa7c8def36e",
   "metadata": {},
   "outputs": [
    {
     "name": "stderr",
     "output_type": "stream",
     "text": [
      "Warning message:\n",
      "“\u001b[1m\u001b[22mUsing `size` aesthetic for lines was deprecated in ggplot2 3.4.0.\n",
      "\u001b[36mℹ\u001b[39m Please use `linewidth` instead.”\n",
      "Warning message:\n",
      "“\u001b[1m\u001b[22mThe `size` argument of `element_line()` is deprecated as of ggplot2 3.4.0.\n",
      "\u001b[36mℹ\u001b[39m Please use the `linewidth` argument instead.”\n"
     ]
    },
    {
     "data": {
      "image/png": "[encoded data removed]",
      "text/plain": [
       "plot without title"
      ]
     },
     "metadata": {
      "image/png": {
       "height": 420,
       "width": 420
      }
     },
     "output_type": "display_data"
    }
   ],
   "source": [
    "no_y_axis = theme(axis.title.y = element_blank(), axis.line.y = element_blank(), axis.text.y = element_blank())\n",
    "\n",
    "p1 = \n",
    "  B117.draws[Outcome == \"log10Load\" & !(grepl(\"delta|RR\",B117))] %>% \n",
    "  ggplot(aes(x = value, fill = B117)) +\n",
    "  stat_histinterval(.width = c(.50, .80, .90), breaks = 25, alpha = .75, color = NA) + \n",
    "  scale_fill_manual(values = c(\"#00A087FF\",\"#7E6148FF\"),\n",
    "                    name = \"\", labels = c(\"B.1.1.7\",\"non-B.1.1.7\")) +\n",
    "  scale_color_manual(values = c(\"#00A087FF\",\"#7E6148FF\"),\n",
    "                    name = \"\", labels = c(\"B.1.1.7\",\"non-B.1.1.7\")) +\n",
    "  theme(axis.line.y = element_blank(), axis.text.y = element_blank()) +\n",
    "  xlab(expression(log[10]~viral~load)) + \n",
    "  theme(legend.position = c(.2,.975)) + \n",
    "  ylab(\"Posterior density\")\n",
    "\n",
    "hdi.data = rbind(\n",
    "  B117.draws[variable == \"load.B117\",value] %>% \n",
    "  fast.hdi(posterior.dist = \"norm\") %>% \n",
    "  .[,.(lower90,upper90)] %>% \n",
    "  .[, hdi.group := 1] %>% \n",
    "  melt(id.vars = \"hdi.group\") %>% \n",
    "  .[, B117 := \"B117\"] %>% \n",
    "  .[, y := 0],\n",
    "  B117.draws[variable == \"load.nonB117\",value] %>% \n",
    "  fast.hdi(posterior.dist = \"norm\") %>% \n",
    "  .[,.(lower90,upper90)] %>% \n",
    "  .[, hdi.group := 1] %>% \n",
    "  melt(id.vars = \"hdi.group\") %>% \n",
    "  .[, B117 := \"nonB117\"] %>% \n",
    "  .[, y := 0])\n",
    "\n",
    "p1 = \n",
    "  p1 +\n",
    "  geom_line(data = hdi.data,\n",
    "            aes(y = y, x = value, group = interaction(hdi.group,B117), color = B117),\n",
    "            size = 1) + \n",
    "  gg_add_grid(\"x\")\n",
    "\n",
    "p2 = \n",
    "  B117.draws[Outcome == \"log10Load\" & (grepl(\"delta\",B117))] %>% \n",
    "  ggplot(aes(x = value)) +\n",
    "  stat_histinterval(.width = c(.50, .80, .90), breaks = 25, alpha = .5) + \n",
    "  theme(axis.line.y = element_blank(), axis.text.y = element_blank()) +\n",
    "  xlab(expression(log[10]~load~B.1.1.7-`non-B.1.1.7`)) +\n",
    "  coord_cartesian(xlim= c(0.5,1.5)) +\n",
    "  ylab(\"\") + \n",
    "  gg_add_grid(\"x\")\n",
    "\n",
    "pB117load = (p1 + ggtitle(\"A\")| p2 + ggtitle(\"B\")) + plot_layout(widths = c(1,1))\n",
    "\n",
    "\n",
    "pB117load"
   ]
  }
 ],
 "metadata": {
  "kernelspec": {
   "display_name": "R [conda env:.conda-myR]",
   "language": "R",
   "name": "conda-env-.conda-myR-r"
  },
  "language_info": {
   "codemirror_mode": "r",
   "file_extension": ".r",
   "mimetype": "text/x-r-source",
   "name": "R",
   "pygments_lexer": "r",
   "version": "4.2.1"
  }
 },
 "nbformat": 4,
 "nbformat_minor": 5
}
